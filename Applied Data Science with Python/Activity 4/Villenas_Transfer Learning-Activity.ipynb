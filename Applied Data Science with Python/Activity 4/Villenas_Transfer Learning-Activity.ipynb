{
 "cells": [
  {
   "cell_type": "markdown",
   "id": "5e86f26c",
   "metadata": {},
   "source": [
    "# Import Libraries and dataset to use (Seperate the dataset to 100 cats and 100 dogs images only)"
   ]
  },
  {
   "cell_type": "code",
   "execution_count": 11,
   "id": "241de215",
   "metadata": {},
   "outputs": [],
   "source": [
    "import os\n",
    "import shutil\n",
    "from pathlib import Path\n",
    "from tensorflow.keras.preprocessing.image import ImageDataGenerator\n",
    "from tensorflow.keras.applications import VGG16, MobileNetV2\n",
    "from tensorflow.keras.models import Model\n",
    "from tensorflow.keras.layers import Dense, GlobalAveragePooling2D, Dropout\n",
    "from tensorflow.keras.optimizers import Adam\n",
    "from sklearn.metrics import classification_report, confusion_matrix\n",
    "import numpy as np\n",
    "import matplotlib.pyplot as plt"
   ]
  },
  {
   "cell_type": "code",
   "execution_count": 5,
   "id": "e095b6f1",
   "metadata": {},
   "outputs": [],
   "source": [
    "source_dir = r\"C:/Users/Miggy/Documents/Applied Data Science with Python/Activity 4/archive/Animals\"\n",
    "base_dir = \"dataset_100\"\n",
    "\n",
    "\n",
    "for label in ['cats', 'dogs']:\n",
    "    os.makedirs(os.path.join(base_dir, 'train', label), exist_ok=True)\n",
    "\n",
    "\n",
    "for label in ['cats', 'dogs']:\n",
    "    src_folder = os.path.join(source_dir, label)\n",
    "    dst_folder = os.path.join(base_dir, 'train', label)\n",
    "    images = os.listdir(src_folder)[:100]\n",
    "    for img in images:\n",
    "        shutil.copy(os.path.join(src_folder, img), os.path.join(dst_folder, img))\n",
    "\n"
   ]
  },
  {
   "cell_type": "markdown",
   "id": "54c5f741",
   "metadata": {},
   "source": [
    "### Apply appropriate preprocessing techniques, including resizing, normalization, and data augmentation if needed."
   ]
  },
  {
   "cell_type": "code",
   "execution_count": 6,
   "id": "8ad160ea",
   "metadata": {},
   "outputs": [
    {
     "name": "stdout",
     "output_type": "stream",
     "text": [
      "Found 160 images belonging to 2 classes.\n",
      "Found 40 images belonging to 2 classes.\n"
     ]
    }
   ],
   "source": [
    "image_size = (224, 224)  \n",
    "batch_size = 32\n",
    "\n",
    "train_datagen = ImageDataGenerator(\n",
    "    rescale=1./255,\n",
    "    validation_split=0.2,\n",
    "    rotation_range=15,\n",
    "    zoom_range=0.1,\n",
    "    horizontal_flip=True\n",
    ")\n",
    "\n",
    "train_generator = train_datagen.flow_from_directory(\n",
    "    os.path.join(base_dir, 'train'),\n",
    "    target_size=image_size,\n",
    "    batch_size=batch_size,\n",
    "    class_mode='binary',\n",
    "    subset='training'\n",
    ")\n",
    "\n",
    "val_generator = train_datagen.flow_from_directory(\n",
    "    os.path.join(base_dir, 'train'),\n",
    "    target_size=image_size,\n",
    "    batch_size=batch_size,\n",
    "    class_mode='binary',\n",
    "    subset='validation'\n",
    ")"
   ]
  },
  {
   "cell_type": "markdown",
   "id": "98d98c62",
   "metadata": {},
   "source": [
    "### Select two pre-trained convolutional neural network models (e.g., VGG16, ResNet50, MobileNetV2) to use as the base for your transfer learning approach."
   ]
  },
  {
   "cell_type": "code",
   "execution_count": 8,
   "id": "84de899b",
   "metadata": {},
   "outputs": [],
   "source": [
    "def build_model(base_model):\n",
    "    x = base_model.output\n",
    "    x = GlobalAveragePooling2D()(x)\n",
    "    x = Dropout(0.5)(x)\n",
    "    x = Dense(64, activation='relu')(x)\n",
    "    predictions = Dense(1, activation='sigmoid')(x)\n",
    "    model = Model(inputs=base_model.input, outputs=predictions)\n",
    "    return model\n"
   ]
  },
  {
   "cell_type": "markdown",
   "id": "d8fa7481",
   "metadata": {},
   "source": [
    "### Use the selected pre-trained models to extract features from your dataset. Train a classifier (e.g., dense layers) on top of the extracted features. (10 - 15 epochs)"
   ]
  },
  {
   "cell_type": "code",
   "execution_count": 9,
   "id": "a0681442",
   "metadata": {},
   "outputs": [],
   "source": [
    "def train_model(base, name):\n",
    "    for layer in base.layers:\n",
    "        layer.trainable = False\n",
    "\n",
    "    model = build_model(base)\n",
    "    model.compile(optimizer=Adam(1e-3), loss='binary_crossentropy', metrics=['accuracy'])\n",
    "\n",
    "    history = model.fit(\n",
    "        train_generator,\n",
    "        validation_data=val_generator,\n",
    "        epochs=15\n",
    "    )\n",
    "    return model, history\n"
   ]
  },
  {
   "cell_type": "code",
   "execution_count": 10,
   "id": "03577632",
   "metadata": {},
   "outputs": [
    {
     "name": "stdout",
     "output_type": "stream",
     "text": [
      "Downloading data from https://storage.googleapis.com/tensorflow/keras-applications/vgg16/vgg16_weights_tf_dim_ordering_tf_kernels_notop.h5\n",
      "\u001b[1m58889256/58889256\u001b[0m \u001b[32m━━━━━━━━━━━━━━━━━━━━\u001b[0m\u001b[37m\u001b[0m \u001b[1m3s\u001b[0m 0us/step\n",
      "Downloading data from https://storage.googleapis.com/tensorflow/keras-applications/mobilenet_v2/mobilenet_v2_weights_tf_dim_ordering_tf_kernels_1.0_224_no_top.h5\n",
      "\u001b[1m9406464/9406464\u001b[0m \u001b[32m━━━━━━━━━━━━━━━━━━━━\u001b[0m\u001b[37m\u001b[0m \u001b[1m1s\u001b[0m 0us/step\n"
     ]
    },
    {
     "name": "stderr",
     "output_type": "stream",
     "text": [
      "c:\\Users\\Miggy\\anaconda3\\Lib\\site-packages\\keras\\src\\trainers\\data_adapters\\py_dataset_adapter.py:121: UserWarning: Your `PyDataset` class should call `super().__init__(**kwargs)` in its constructor. `**kwargs` can include `workers`, `use_multiprocessing`, `max_queue_size`. Do not pass these arguments to `fit()`, as they will be ignored.\n",
      "  self._warn_if_super_not_called()\n"
     ]
    },
    {
     "name": "stdout",
     "output_type": "stream",
     "text": [
      "Epoch 1/15\n",
      "\u001b[1m5/5\u001b[0m \u001b[32m━━━━━━━━━━━━━━━━━━━━\u001b[0m\u001b[37m\u001b[0m \u001b[1m10s\u001b[0m 2s/step - accuracy: 0.5148 - loss: 0.7380 - val_accuracy: 0.6250 - val_loss: 0.6624\n",
      "Epoch 2/15\n",
      "\u001b[1m5/5\u001b[0m \u001b[32m━━━━━━━━━━━━━━━━━━━━\u001b[0m\u001b[37m\u001b[0m \u001b[1m7s\u001b[0m 1s/step - accuracy: 0.5143 - loss: 0.6860 - val_accuracy: 0.8000 - val_loss: 0.6309\n",
      "Epoch 3/15\n",
      "\u001b[1m5/5\u001b[0m \u001b[32m━━━━━━━━━━━━━━━━━━━━\u001b[0m\u001b[37m\u001b[0m \u001b[1m7s\u001b[0m 1s/step - accuracy: 0.6010 - loss: 0.6601 - val_accuracy: 0.6750 - val_loss: 0.6247\n",
      "Epoch 4/15\n",
      "\u001b[1m5/5\u001b[0m \u001b[32m━━━━━━━━━━━━━━━━━━━━\u001b[0m\u001b[37m\u001b[0m \u001b[1m7s\u001b[0m 1s/step - accuracy: 0.6614 - loss: 0.6132 - val_accuracy: 0.7750 - val_loss: 0.6096\n",
      "Epoch 5/15\n",
      "\u001b[1m5/5\u001b[0m \u001b[32m━━━━━━━━━━━━━━━━━━━━\u001b[0m\u001b[37m\u001b[0m \u001b[1m7s\u001b[0m 1s/step - accuracy: 0.6863 - loss: 0.6106 - val_accuracy: 0.8000 - val_loss: 0.5882\n",
      "Epoch 6/15\n",
      "\u001b[1m5/5\u001b[0m \u001b[32m━━━━━━━━━━━━━━━━━━━━\u001b[0m\u001b[37m\u001b[0m \u001b[1m7s\u001b[0m 1s/step - accuracy: 0.7554 - loss: 0.5642 - val_accuracy: 0.7750 - val_loss: 0.5631\n",
      "Epoch 7/15\n",
      "\u001b[1m5/5\u001b[0m \u001b[32m━━━━━━━━━━━━━━━━━━━━\u001b[0m\u001b[37m\u001b[0m \u001b[1m7s\u001b[0m 1s/step - accuracy: 0.8014 - loss: 0.5428 - val_accuracy: 0.8750 - val_loss: 0.5455\n",
      "Epoch 8/15\n",
      "\u001b[1m5/5\u001b[0m \u001b[32m━━━━━━━━━━━━━━━━━━━━\u001b[0m\u001b[37m\u001b[0m \u001b[1m7s\u001b[0m 1s/step - accuracy: 0.7661 - loss: 0.5636 - val_accuracy: 0.8250 - val_loss: 0.5469\n",
      "Epoch 9/15\n",
      "\u001b[1m5/5\u001b[0m \u001b[32m━━━━━━━━━━━━━━━━━━━━\u001b[0m\u001b[37m\u001b[0m \u001b[1m7s\u001b[0m 1s/step - accuracy: 0.7606 - loss: 0.5110 - val_accuracy: 0.9000 - val_loss: 0.4919\n",
      "Epoch 10/15\n",
      "\u001b[1m5/5\u001b[0m \u001b[32m━━━━━━━━━━━━━━━━━━━━\u001b[0m\u001b[37m\u001b[0m \u001b[1m7s\u001b[0m 1s/step - accuracy: 0.7547 - loss: 0.5160 - val_accuracy: 0.8500 - val_loss: 0.4933\n",
      "Epoch 11/15\n",
      "\u001b[1m5/5\u001b[0m \u001b[32m━━━━━━━━━━━━━━━━━━━━\u001b[0m\u001b[37m\u001b[0m \u001b[1m7s\u001b[0m 1s/step - accuracy: 0.7470 - loss: 0.5121 - val_accuracy: 0.8750 - val_loss: 0.4756\n",
      "Epoch 12/15\n",
      "\u001b[1m5/5\u001b[0m \u001b[32m━━━━━━━━━━━━━━━━━━━━\u001b[0m\u001b[37m\u001b[0m \u001b[1m7s\u001b[0m 1s/step - accuracy: 0.8027 - loss: 0.4794 - val_accuracy: 0.8250 - val_loss: 0.4695\n",
      "Epoch 13/15\n",
      "\u001b[1m5/5\u001b[0m \u001b[32m━━━━━━━━━━━━━━━━━━━━\u001b[0m\u001b[37m\u001b[0m \u001b[1m7s\u001b[0m 1s/step - accuracy: 0.7753 - loss: 0.4876 - val_accuracy: 0.9250 - val_loss: 0.4495\n",
      "Epoch 14/15\n",
      "\u001b[1m5/5\u001b[0m \u001b[32m━━━━━━━━━━━━━━━━━━━━\u001b[0m\u001b[37m\u001b[0m \u001b[1m7s\u001b[0m 1s/step - accuracy: 0.7729 - loss: 0.4580 - val_accuracy: 0.8750 - val_loss: 0.4232\n",
      "Epoch 15/15\n",
      "\u001b[1m5/5\u001b[0m \u001b[32m━━━━━━━━━━━━━━━━━━━━\u001b[0m\u001b[37m\u001b[0m \u001b[1m7s\u001b[0m 1s/step - accuracy: 0.7675 - loss: 0.4825 - val_accuracy: 0.9000 - val_loss: 0.4081\n",
      "Epoch 1/15\n",
      "\u001b[1m5/5\u001b[0m \u001b[32m━━━━━━━━━━━━━━━━━━━━\u001b[0m\u001b[37m\u001b[0m \u001b[1m7s\u001b[0m 796ms/step - accuracy: 0.4516 - loss: 0.9067 - val_accuracy: 0.9250 - val_loss: 0.2378\n",
      "Epoch 2/15\n",
      "\u001b[1m5/5\u001b[0m \u001b[32m━━━━━━━━━━━━━━━━━━━━\u001b[0m\u001b[37m\u001b[0m \u001b[1m2s\u001b[0m 490ms/step - accuracy: 0.9726 - loss: 0.1949 - val_accuracy: 1.0000 - val_loss: 0.0862\n",
      "Epoch 3/15\n",
      "\u001b[1m5/5\u001b[0m \u001b[32m━━━━━━━━━━━━━━━━━━━━\u001b[0m\u001b[37m\u001b[0m \u001b[1m2s\u001b[0m 505ms/step - accuracy: 0.9877 - loss: 0.0730 - val_accuracy: 0.9750 - val_loss: 0.0605\n",
      "Epoch 4/15\n",
      "\u001b[1m5/5\u001b[0m \u001b[32m━━━━━━━━━━━━━━━━━━━━\u001b[0m\u001b[37m\u001b[0m \u001b[1m2s\u001b[0m 500ms/step - accuracy: 0.9701 - loss: 0.0780 - val_accuracy: 1.0000 - val_loss: 0.0514\n",
      "Epoch 5/15\n",
      "\u001b[1m5/5\u001b[0m \u001b[32m━━━━━━━━━━━━━━━━━━━━\u001b[0m\u001b[37m\u001b[0m \u001b[1m2s\u001b[0m 507ms/step - accuracy: 1.0000 - loss: 0.0243 - val_accuracy: 1.0000 - val_loss: 0.0354\n",
      "Epoch 6/15\n",
      "\u001b[1m5/5\u001b[0m \u001b[32m━━━━━━━━━━━━━━━━━━━━\u001b[0m\u001b[37m\u001b[0m \u001b[1m2s\u001b[0m 501ms/step - accuracy: 0.9786 - loss: 0.0571 - val_accuracy: 0.9750 - val_loss: 0.0905\n",
      "Epoch 7/15\n",
      "\u001b[1m5/5\u001b[0m \u001b[32m━━━━━━━━━━━━━━━━━━━━\u001b[0m\u001b[37m\u001b[0m \u001b[1m2s\u001b[0m 496ms/step - accuracy: 0.9889 - loss: 0.0394 - val_accuracy: 0.9250 - val_loss: 0.1052\n",
      "Epoch 8/15\n",
      "\u001b[1m5/5\u001b[0m \u001b[32m━━━━━━━━━━━━━━━━━━━━\u001b[0m\u001b[37m\u001b[0m \u001b[1m2s\u001b[0m 506ms/step - accuracy: 0.9871 - loss: 0.0432 - val_accuracy: 1.0000 - val_loss: 0.0459\n",
      "Epoch 9/15\n",
      "\u001b[1m5/5\u001b[0m \u001b[32m━━━━━━━━━━━━━━━━━━━━\u001b[0m\u001b[37m\u001b[0m \u001b[1m2s\u001b[0m 507ms/step - accuracy: 0.9924 - loss: 0.0164 - val_accuracy: 0.9750 - val_loss: 0.0658\n",
      "Epoch 10/15\n",
      "\u001b[1m5/5\u001b[0m \u001b[32m━━━━━━━━━━━━━━━━━━━━\u001b[0m\u001b[37m\u001b[0m \u001b[1m2s\u001b[0m 501ms/step - accuracy: 0.9850 - loss: 0.0298 - val_accuracy: 0.9750 - val_loss: 0.0760\n",
      "Epoch 11/15\n",
      "\u001b[1m5/5\u001b[0m \u001b[32m━━━━━━━━━━━━━━━━━━━━\u001b[0m\u001b[37m\u001b[0m \u001b[1m3s\u001b[0m 518ms/step - accuracy: 0.9979 - loss: 0.0096 - val_accuracy: 0.9750 - val_loss: 0.0726\n",
      "Epoch 12/15\n",
      "\u001b[1m5/5\u001b[0m \u001b[32m━━━━━━━━━━━━━━━━━━━━\u001b[0m\u001b[37m\u001b[0m \u001b[1m3s\u001b[0m 517ms/step - accuracy: 1.0000 - loss: 0.0084 - val_accuracy: 1.0000 - val_loss: 0.0358\n",
      "Epoch 13/15\n",
      "\u001b[1m5/5\u001b[0m \u001b[32m━━━━━━━━━━━━━━━━━━━━\u001b[0m\u001b[37m\u001b[0m \u001b[1m3s\u001b[0m 519ms/step - accuracy: 1.0000 - loss: 0.0118 - val_accuracy: 1.0000 - val_loss: 0.0274\n",
      "Epoch 14/15\n",
      "\u001b[1m5/5\u001b[0m \u001b[32m━━━━━━━━━━━━━━━━━━━━\u001b[0m\u001b[37m\u001b[0m \u001b[1m2s\u001b[0m 503ms/step - accuracy: 1.0000 - loss: 0.0094 - val_accuracy: 1.0000 - val_loss: 0.0177\n",
      "Epoch 15/15\n",
      "\u001b[1m5/5\u001b[0m \u001b[32m━━━━━━━━━━━━━━━━━━━━\u001b[0m\u001b[37m\u001b[0m \u001b[1m2s\u001b[0m 494ms/step - accuracy: 0.9979 - loss: 0.0080 - val_accuracy: 1.0000 - val_loss: 0.0201\n"
     ]
    }
   ],
   "source": [
    "vgg_base = VGG16(weights='imagenet', include_top=False, input_shape=(224, 224, 3))\n",
    "mobilenet_base = MobileNetV2(weights='imagenet', include_top=False, input_shape=(224, 224, 3))\n",
    "\n",
    "vgg_model, vgg_history = train_model(vgg_base, \"VGG16\")\n",
    "mobilenet_model, mobilenet_history = train_model(mobilenet_base, \"MobileNetV2\")"
   ]
  },
  {
   "cell_type": "markdown",
   "id": "e914862d",
   "metadata": {},
   "source": [
    "### Compare the performance of the three models based on accuracy and other relevant metrics."
   ]
  },
  {
   "cell_type": "code",
   "execution_count": null,
   "id": "145ea6aa",
   "metadata": {},
   "outputs": [],
   "source": [
    "def evaluate_model(model, generator):\n",
    "    generator.reset()\n",
    "    preds = model.predict(generator, verbose=0)\n",
    "    y_pred = (preds > 0.5).astype(int)\n",
    "    y_true = generator.classes\n",
    "\n",
    "    print(classification_report(y_true, y_pred, target_names=generator.class_indices.keys()))\n",
    "    cm = confusion_matrix(y_true, y_pred)\n",
    "    print(\"Confusion Matrix:\\n\", cm)\n",
    "\n",
    "evaluate_model(vgg_model, val_generator)\n",
    "evaluate_model(mobilenet_model, val_generator)"
   ]
  }
 ],
 "metadata": {
  "kernelspec": {
   "display_name": "base",
   "language": "python",
   "name": "python3"
  },
  "language_info": {
   "codemirror_mode": {
    "name": "ipython",
    "version": 3
   },
   "file_extension": ".py",
   "mimetype": "text/x-python",
   "name": "python",
   "nbconvert_exporter": "python",
   "pygments_lexer": "ipython3",
   "version": "3.12.7"
  }
 },
 "nbformat": 4,
 "nbformat_minor": 5
}
